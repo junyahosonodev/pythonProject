{
  "nbformat": 4,
  "nbformat_minor": 0,
  "metadata": {
    "colab": {
      "name": "githubconnecttest.ipynb",
      "provenance": [],
      "collapsed_sections": [],
      "mount_file_id": "1cn1vLRIJYLG1Mxjp1G8HIc8AzwtKSm2b",
      "authorship_tag": "ABX9TyPNvJmGM6s6OTQl7l3YI6Be",
      "include_colab_link": true
    },
    "kernelspec": {
      "name": "python3",
      "display_name": "Python 3"
    }
  },
  "cells": [
    {
      "cell_type": "markdown",
      "metadata": {
        "id": "view-in-github",
        "colab_type": "text"
      },
      "source": [
        "<a href=\"https://colab.research.google.com/github/junyahosonodev/pythonProject/blob/master/githubconnecttest.ipynb\" target=\"_parent\"><img src=\"https://colab.research.google.com/assets/colab-badge.svg\" alt=\"Open In Colab\"/></a>"
      ]
    },
    {
      "cell_type": "code",
      "metadata": {
        "id": "VXegQF1_8ZyU",
        "outputId": "40dfa334-85e0-4b39-c3ea-5b4411e60c23",
        "colab": {
          "base_uri": "https://localhost:8080/",
          "height": 130
        }
      },
      "source": [
        "!git clone https://github.com/junyahosonodev/pythonProject.git"
      ],
      "execution_count": 1,
      "outputs": [
        {
          "output_type": "stream",
          "text": [
            "Cloning into 'pythonProject'...\n",
            "remote: Enumerating objects: 24, done.\u001b[K\n",
            "remote: Counting objects: 100% (24/24), done.\u001b[K\n",
            "remote: Compressing objects: 100% (18/18), done.\u001b[K\n",
            "remote: Total 24 (delta 4), reused 20 (delta 2), pack-reused 0\u001b[K\n",
            "Unpacking objects: 100% (24/24), done.\n"
          ],
          "name": "stdout"
        }
      ]
    },
    {
      "cell_type": "code",
      "metadata": {
        "id": "NGUrRjeo8uyg",
        "outputId": "f1dab7b6-239c-400e-a097-533c2f6c291d",
        "colab": {
          "base_uri": "https://localhost:8080/",
          "height": 36
        }
      },
      "source": [
        "import os\n",
        "path = '/content/pythonProject'\n",
        "\n",
        "os.chdir(path)\n",
        "\n",
        "!ls"
      ],
      "execution_count": 3,
      "outputs": [
        {
          "output_type": "stream",
          "text": [
            "hello_world.py\tmain.py  p18.py  p20.py  README.md\n"
          ],
          "name": "stdout"
        }
      ]
    },
    {
      "cell_type": "code",
      "metadata": {
        "id": "sEbkllfK9LC5",
        "outputId": "294533e7-467e-4db0-ff03-85fe5652de07",
        "colab": {
          "base_uri": "https://localhost:8080/",
          "height": 130
        }
      },
      "source": [
        "!git clone https://github.com/junyahosonodev/pythonProject.git"
      ],
      "execution_count": 8,
      "outputs": [
        {
          "output_type": "stream",
          "text": [
            "Cloning into 'pythonProject'...\n",
            "remote: Enumerating objects: 24, done.\u001b[K\n",
            "remote: Counting objects: 100% (24/24), done.\u001b[K\n",
            "remote: Compressing objects: 100% (18/18), done.\u001b[K\n",
            "remote: Total 24 (delta 4), reused 20 (delta 2), pack-reused 0\u001b[K\n",
            "Unpacking objects: 100% (24/24), done.\n"
          ],
          "name": "stdout"
        }
      ]
    },
    {
      "cell_type": "code",
      "metadata": {
        "id": "DlF1cZhu-GYL",
        "outputId": "2fdc2e68-5037-4b13-9219-157b9f603947",
        "colab": {
          "base_uri": "https://localhost:8080/",
          "height": 74
        }
      },
      "source": [
        "!git add Untitled0.ipynb\n",
        "!git commit -m \"Added testfile from Google Colab2.\""
      ],
      "execution_count": 15,
      "outputs": [
        {
          "output_type": "stream",
          "text": [
            "[master fc6d5fa] Added testfile from Google Colab2.\n",
            " 1 file changed, 1 insertion(+)\n",
            " create mode 100644 Untitled0.ipynb\n"
          ],
          "name": "stdout"
        }
      ]
    },
    {
      "cell_type": "code",
      "metadata": {
        "id": "3_kwjPib_hXH",
        "outputId": "aeb94b76-c425-415a-f8df-e021c3ecdc01",
        "colab": {
          "base_uri": "https://localhost:8080/",
          "height": 36
        }
      },
      "source": [
        "!git remote set-url origin https://github.com/junyahosonodev/pythonProject.git\n",
        "!git push origin master"
      ],
      "execution_count": 19,
      "outputs": [
        {
          "output_type": "stream",
          "text": [
            "fatal: could not read Username for 'https://github.com': No such device or address\n"
          ],
          "name": "stdout"
        }
      ]
    },
    {
      "cell_type": "code",
      "metadata": {
        "id": "nxV55Od-_zeK"
      },
      "source": [
        "!git config --global user.email \"junya.hosono.dev@gmail.com\"\n",
        "!git config --global user.name \"junyahosonodev\""
      ],
      "execution_count": 18,
      "outputs": []
    },
    {
      "cell_type": "markdown",
      "metadata": {
        "id": "ZmAk92cpA9PN"
      },
      "source": [
        "↑うまくいかない。結局メニュー画面から「githubに保存」した。\n",
        "しかし、githubに.ipynbは追加できるが、.pyはcolabの上では編集できない。\n",
        "これは、開発自体を全部.ipynb上でやれ、といういうことなんだろうな。\n",
        "\n",
        "ちなみにpycharm側でもpullすればgithub上の.ipynbは読み込めるが、json状態。これを使えるようにするにはpycharm pro版が必要で、2.2万/年。これはないな……\n",
        "\n",
        "であるなら、いっそのこと全部google colabのほうに載せるか。"
      ]
    }
  ]
}